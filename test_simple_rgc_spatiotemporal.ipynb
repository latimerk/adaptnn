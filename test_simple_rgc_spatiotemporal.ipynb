{
 "cells": [
  {
   "cell_type": "code",
   "execution_count": 1,
   "metadata": {},
   "outputs": [],
   "source": [
    "import numpy as np\n",
    "import matplotlib.pyplot as plt\n",
    "import torch\n",
    "\n",
    "from adaptnn.model_fitting import NiruDataModel\n",
    "# from adaptnn.retina_datasets import NiruDataset\n",
    "\n",
    "torch.set_default_device('cuda:0')"
   ]
  },
  {
   "cell_type": "code",
   "execution_count": 2,
   "metadata": {},
   "outputs": [
    {
     "name": "stdout",
     "output_type": "stream",
     "text": [
      "Building multi-layer convolutional model for 14 neurons and image size 50 x 50\n",
      "Adding 2D batch normalization layer.\n",
      "Adding Tucker convolutional layer of size (15, 15, 40) and 8 channels with factorization type spatial and rank 2.\n",
      "Adding nonlinearity: Softplus.\n",
      "Adding 2D batch normalization layer.\n",
      "Adding Tucker convolutional layer of size (15, 15, 12) and 8 channels with factorization type spatial and rank 2.\n",
      "Adding nonlinearity: Softplus.\n",
      "Adding final 2D batch normalization layer.\n",
      "Adding full-connected linear layer: [8, 22, 22] to 14.\n",
      "Adding output nonlinearity: Softplus.\n",
      "Model initialized.\n"
     ]
    }
   ],
   "source": [
    "# dataset_params = {\"recording\" : \"A-noise\", \"dtype\" : torch.float32}\n",
    "# dataset = NiruDataset(**dataset_params)\n",
    "model = NiruDataModel()"
   ]
  },
  {
   "cell_type": "code",
   "execution_count": 3,
   "metadata": {},
   "outputs": [],
   "source": []
  },
  {
   "cell_type": "code",
   "execution_count": 10,
   "metadata": {},
   "outputs": [
    {
     "data": {
      "text/plain": [
       "torch.Size([1, 14, 5947])"
      ]
     },
     "execution_count": 10,
     "metadata": {},
     "output_type": "execute_result"
    }
   ],
   "source": []
  }
 ],
 "metadata": {
  "kernelspec": {
   "display_name": "ANN",
   "language": "python",
   "name": "python3"
  },
  "language_info": {
   "codemirror_mode": {
    "name": "ipython",
    "version": 3
   },
   "file_extension": ".py",
   "mimetype": "text/x-python",
   "name": "python",
   "nbconvert_exporter": "python",
   "pygments_lexer": "ipython3",
   "version": "3.12.2"
  }
 },
 "nbformat": 4,
 "nbformat_minor": 2
}
