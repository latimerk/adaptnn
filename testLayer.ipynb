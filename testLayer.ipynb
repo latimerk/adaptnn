{
 "cells": [
  {
   "cell_type": "code",
   "execution_count": null,
   "metadata": {},
   "outputs": [],
   "source": [
    "import numpy as np\n",
    "import torch\n",
    "import matplotlib.pyplot as plt\n",
    "\n",
    "import h5py\n",
    "\n",
    "from adaptnn.model_fitting import ArtificialModel\n",
    "import tltorch\n",
    "torch.set_default_device('cuda:0')"
   ]
  },
  {
   "cell_type": "code",
   "execution_count": null,
   "metadata": {},
   "outputs": [],
   "source": [
    "model = ArtificialModel(dataset_params = {\"filter_spatial\" : (15,15),\n",
    "                                         \"filter_time\" : 10,\n",
    "                                         \"num_cells\" : 4,\n",
    "                                         \"out_noise_std_train\" : 0.1,\n",
    "                                         \"out_noise_std_test\" : None,\n",
    "                                         \"filter_rank\" : 2,\n",
    "                                         \"disjoint_segments\" : True},\n",
    "                        net_params = {\"layer_time_lengths\" : (10,1),\n",
    "                                     \"layer_rf_pixel_widths\" : (5,5),\n",
    "                                     \"layer_channels\" : (4,4,),\n",
    "                                     \"layer_spatio_temporal_rank\" : 4,\n",
    "                                     \"layer_spatio_temporal_factorization_type\" : ('spatial',),\n",
    "                                     \"out_normalization\" : True,\n",
    "                                     \"layer_normalization\" : True})\n",
    "print(model.dataset.start_idx_X_train)\n",
    "print(model.dataset.X_train.shape)"
   ]
  },
  {
   "cell_type": "code",
   "execution_count": null,
   "metadata": {},
   "outputs": [],
   "source": [
    "model.train(epochs=2000,print_every=10,penalty_params = {\"en_lambda\" : 0.0001}, optimizer_params = {\"lr\" : 1e-3})#, scheduler_params=None)"
   ]
  },
  {
   "cell_type": "code",
   "execution_count": null,
   "metadata": {},
   "outputs": [],
   "source": [
    "Y_fit, Y_true = model.predict()\n",
    "Y_fit = Y_fit.cpu().numpy().squeeze()\n",
    "Y_true = Y_true.cpu().numpy().squeeze()"
   ]
  },
  {
   "cell_type": "code",
   "execution_count": null,
   "metadata": {},
   "outputs": [],
   "source": [
    "NC = 4\n",
    "NR = int(np.ceil(model.dataset.num_cells)/NC)\n",
    "\n",
    "T = 100\n",
    "plt.figure(figsize=(NC*3,NR*2))\n",
    "for ii in range(model.dataset.num_cells):\n",
    "    plt.subplot(NR,NC,ii+1)\n",
    "    plt.plot(Y_true[ii,:T])\n",
    "    plt.plot(Y_fit[ ii,:T])"
   ]
  },
  {
   "cell_type": "code",
   "execution_count": null,
   "metadata": {},
   "outputs": [],
   "source": [
    "with torch.no_grad():\n",
    "    Y2 = model.model(model.dataset.X_train.unsqueeze(0).unsqueeze(0)).cpu().numpy().squeeze()\n",
    "    Y1 = model.dataset.Y_train_0.cpu().numpy()[:,9:]"
   ]
  },
  {
   "cell_type": "code",
   "execution_count": null,
   "metadata": {},
   "outputs": [],
   "source": [
    "NC = 4\n",
    "NR = int(np.ceil(model.dataset.num_cells)/NC)\n",
    "\n",
    "T = 200\n",
    "plt.figure(figsize=(NC*3,NR*2))\n",
    "for ii in range(model.dataset.num_cells):\n",
    "    plt.subplot(NR,NC,ii+1)\n",
    "    plt.plot(Y1[ii,:T])\n",
    "    plt.plot(Y2[ ii,:T])\n",
    "    # plt.scatter(Y1[ii,:],Y1[ii,:])"
   ]
  },
  {
   "cell_type": "code",
   "execution_count": null,
   "metadata": {},
   "outputs": [],
   "source": [
    "mp = 15 * 15 * 40 * 8\n",
    "pp = 8*3*3*40 + 6*8*8*3*3\n",
    "\n",
    "\n",
    "print(f\"max params {mp}\")\n",
    "print(f\"paper params {pp}\")\n",
    "for rank in range(1,8):\n",
    "    fp = (15*rank + 15*rank + 40 * rank + rank**3)*8\n",
    "    print(f\"factored params {fp} with rank {rank}\")\n",
    "\n",
    "# layer 1: spatial 15x15, temporal 40, channels 8, rank 6"
   ]
  },
  {
   "cell_type": "code",
   "execution_count": null,
   "metadata": {},
   "outputs": [],
   "source": [
    "time = 10\n",
    "mp = 11 * 11 * time * 8\n",
    "pp = 5*8*8*3*3\n",
    "\n",
    "\n",
    "print(f\"max params {mp}\")\n",
    "print(f\"paper params {pp}\")\n",
    "for rank in range(1,8):\n",
    "    fp = (11*rank + 11*rank + time * rank + rank**3)*8\n",
    "    print(f\"factored params {fp} with rank {rank}\")\n",
    "\n",
    "# layer 2: spatial 11x11, temporal 8, channels 8, rank 5"
   ]
  }
 ],
 "metadata": {
  "kernelspec": {
   "display_name": "ANN",
   "language": "python",
   "name": "python3"
  },
  "language_info": {
   "codemirror_mode": {
    "name": "ipython",
    "version": 3
   },
   "file_extension": ".py",
   "mimetype": "text/x-python",
   "name": "python",
   "nbconvert_exporter": "python",
   "pygments_lexer": "ipython3",
   "version": "3.12.2"
  }
 },
 "nbformat": 4,
 "nbformat_minor": 2
}
