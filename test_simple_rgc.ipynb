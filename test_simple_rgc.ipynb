{
 "cells": [
  {
   "cell_type": "code",
   "execution_count": 1,
   "metadata": {},
   "outputs": [],
   "source": [
    "import numpy as np\n",
    "import matplotlib.pyplot as plt\n",
    "import torch\n",
    "\n",
    "from adaptnn.model_fitting import MCJN05DataModel\n",
    "\n",
    "\n",
    "torch.set_default_device('cuda:0')"
   ]
  },
  {
   "cell_type": "code",
   "execution_count": 2,
   "metadata": {},
   "outputs": [
    {
     "ename": "FileNotFoundError",
     "evalue": "[Errno 2] No such file or directory: '/media/latimerk/ExtraDrive1/cbem/Data/JN05/flashesRGC_JN05//flash2001-04-06/framelen'",
     "output_type": "error",
     "traceback": [
      "\u001b[0;31m---------------------------------------------------------------------------\u001b[0m",
      "\u001b[0;31mFileNotFoundError\u001b[0m                         Traceback (most recent call last)",
      "Cell \u001b[0;32mIn[2], line 1\u001b[0m\n\u001b[0;32m----> 1\u001b[0m model \u001b[38;5;241m=\u001b[39m \u001b[43mMCJN05DataModel\u001b[49m\u001b[43m(\u001b[49m\u001b[43mdataset_params\u001b[49m\u001b[38;5;241;43m=\u001b[39;49m\u001b[43m{\u001b[49m\u001b[38;5;124;43m\"\u001b[39;49m\u001b[38;5;124;43mdtype\u001b[39;49m\u001b[38;5;124;43m\"\u001b[39;49m\u001b[43m \u001b[49m\u001b[43m:\u001b[49m\u001b[43m \u001b[49m\u001b[43mtorch\u001b[49m\u001b[38;5;241;43m.\u001b[39;49m\u001b[43mfloat32\u001b[49m\u001b[43m,\u001b[49m\u001b[43m \u001b[49m\u001b[38;5;124;43m\"\u001b[39;49m\u001b[38;5;124;43mtrain_long_contrast_levels\u001b[39;49m\u001b[38;5;124;43m\"\u001b[39;49m\u001b[43m \u001b[49m\u001b[43m:\u001b[49m\u001b[43m \u001b[49m\u001b[43m(\u001b[49m\u001b[38;5;241;43m0\u001b[39;49m\u001b[43m,\u001b[49m\u001b[38;5;241;43m3\u001b[39;49m\u001b[43m)\u001b[49m\u001b[43m,\u001b[49m\u001b[43m \u001b[49m\u001b[38;5;124;43m\"\u001b[39;49m\u001b[38;5;124;43msegment_length_bins\u001b[39;49m\u001b[38;5;124;43m\"\u001b[39;49m\u001b[43m \u001b[49m\u001b[43m:\u001b[49m\u001b[43m \u001b[49m\u001b[38;5;241;43m240\u001b[39;49m\u001b[43m}\u001b[49m\u001b[43m,\u001b[49m\n\u001b[1;32m      2\u001b[0m \u001b[43m                        \u001b[49m\u001b[43mnet_params\u001b[49m\u001b[43m \u001b[49m\u001b[38;5;241;43m=\u001b[39;49m\u001b[43m \u001b[49m\u001b[43m{\u001b[49m\u001b[38;5;124;43m\"\u001b[39;49m\u001b[38;5;124;43mout_activation\u001b[39;49m\u001b[38;5;124;43m\"\u001b[39;49m\u001b[43m \u001b[49m\u001b[43m:\u001b[49m\u001b[43m \u001b[49m\u001b[38;5;28;43;01mNone\u001b[39;49;00m\u001b[43m}\u001b[49m\u001b[43m)\u001b[49m\n",
      "File \u001b[0;32m~/gitRepos/adaptnn/src/adaptnn/model_fitting.py:97\u001b[0m, in \u001b[0;36mMCJN05DataModel.__init__\u001b[0;34m(self, dataset_params, net_params)\u001b[0m\n\u001b[1;32m     94\u001b[0m \u001b[38;5;28;01mdef\u001b[39;00m \u001b[38;5;21m__init__\u001b[39m(\u001b[38;5;28mself\u001b[39m, dataset_params \u001b[38;5;241m=\u001b[39m {\u001b[38;5;124m\"\u001b[39m\u001b[38;5;124mdtype\u001b[39m\u001b[38;5;124m\"\u001b[39m : torch\u001b[38;5;241m.\u001b[39mfloat32},\n\u001b[1;32m     95\u001b[0m                    net_params \u001b[38;5;241m=\u001b[39m {\u001b[38;5;124m\"\u001b[39m\u001b[38;5;124mout_activation\u001b[39m\u001b[38;5;124m\"\u001b[39m : torch\u001b[38;5;241m.\u001b[39mnn\u001b[38;5;241m.\u001b[39mSoftplus}):\n\u001b[0;32m---> 97\u001b[0m     \u001b[38;5;28mself\u001b[39m\u001b[38;5;241m.\u001b[39mdataset \u001b[38;5;241m=\u001b[39m \u001b[43mMultiContrastFullFieldJN05Dataset\u001b[49m\u001b[43m(\u001b[49m\u001b[38;5;241;43m*\u001b[39;49m\u001b[38;5;241;43m*\u001b[39;49m\u001b[43mdataset_params\u001b[49m\u001b[43m)\u001b[49m\n\u001b[1;32m     99\u001b[0m     \u001b[38;5;28mself\u001b[39m\u001b[38;5;241m.\u001b[39mmodel \u001b[38;5;241m=\u001b[39m PopulationFullFieldNet(num_cells\u001b[38;5;241m=\u001b[39m\u001b[38;5;28mself\u001b[39m\u001b[38;5;241m.\u001b[39mdataset\u001b[38;5;241m.\u001b[39mnum_cells,\n\u001b[1;32m    100\u001b[0m                                    \u001b[38;5;241m*\u001b[39m\u001b[38;5;241m*\u001b[39mnet_params)\n\u001b[1;32m    102\u001b[0m     \u001b[38;5;28mself\u001b[39m\u001b[38;5;241m.\u001b[39mdataset\u001b[38;5;241m.\u001b[39mtime_padding_bins \u001b[38;5;241m=\u001b[39m \u001b[38;5;28mself\u001b[39m\u001b[38;5;241m.\u001b[39mmodel\u001b[38;5;241m.\u001b[39mtime_padding\n",
      "File \u001b[0;32m~/gitRepos/adaptnn/src/adaptnn/retina_datasets.py:195\u001b[0m, in \u001b[0;36mMultiContrastFullFieldJN05Dataset.__init__\u001b[0;34m(self, time_padding_bins, train_long_contrast_levels, test_long_contrast_levels, test_rpt_contrast_levels, train_long_period, test_long_period, segment_length_bins, disjoint_segments, device, dtype, base_dir)\u001b[0m\n\u001b[1;32m    192\u001b[0m \u001b[38;5;28mself\u001b[39m\u001b[38;5;241m.\u001b[39mtime_padding_bins_ \u001b[38;5;241m=\u001b[39m \u001b[38;5;28;01mNone\u001b[39;00m\n\u001b[1;32m    194\u001b[0m \u001b[38;5;28mself\u001b[39m\u001b[38;5;241m.\u001b[39mframe_length \u001b[38;5;241m=\u001b[39m \u001b[38;5;241m0.00834072\u001b[39m \u001b[38;5;66;03m# in s\u001b[39;00m\n\u001b[0;32m--> 195\u001b[0m \u001b[38;5;28;01mwith\u001b[39;00m \u001b[38;5;28;43mopen\u001b[39;49m\u001b[43m(\u001b[49m\u001b[38;5;124;43mf\u001b[39;49m\u001b[38;5;124;43m\"\u001b[39;49m\u001b[38;5;132;43;01m{\u001b[39;49;00m\u001b[38;5;28;43mself\u001b[39;49m\u001b[38;5;241;43m.\u001b[39;49m\u001b[43m_full_dir\u001b[49m\u001b[43m(\u001b[49m\u001b[38;5;241;43m0\u001b[39;49m\u001b[43m)\u001b[49m\u001b[38;5;132;43;01m}\u001b[39;49;00m\u001b[38;5;124;43m/framelen\u001b[39;49m\u001b[38;5;124;43m\"\u001b[39;49m\u001b[43m)\u001b[49m \u001b[38;5;28;01mas\u001b[39;00m f:\n\u001b[1;32m    196\u001b[0m     data \u001b[38;5;241m=\u001b[39m f\u001b[38;5;241m.\u001b[39mread()\n\u001b[1;32m    197\u001b[0m     \u001b[38;5;28mself\u001b[39m\u001b[38;5;241m.\u001b[39mframe_length \u001b[38;5;241m=\u001b[39m \u001b[38;5;28mfloat\u001b[39m(data) \u001b[38;5;66;03m# should be the same as above, but reloading to show how dataset info was originally stored \u001b[39;00m\n",
      "\u001b[0;31mFileNotFoundError\u001b[0m: [Errno 2] No such file or directory: '/media/latimerk/ExtraDrive1/cbem/Data/JN05/flashesRGC_JN05//flash2001-04-06/framelen'"
     ]
    }
   ],
   "source": [
    "model = MCJN05DataModel(dataset_params={\"dtype\" : torch.float32, \"train_long_contrast_levels\" : (0,3), \"segment_length_bins\" : 240},\n",
    "                        net_params = {\"out_activation\" : None})"
   ]
  },
  {
   "cell_type": "code",
   "execution_count": null,
   "metadata": {},
   "outputs": [],
   "source": [
    "model.train(2000, print_every=50, batch_params = {\"batch_size\":16, \"shuffle\":True})"
   ]
  },
  {
   "cell_type": "code",
   "execution_count": null,
   "metadata": {},
   "outputs": [],
   "source": [
    "X1,Y1_0 = model.predict_rpt(1)\n",
    "X2,Y2_0 = model.predict_rpt(2)\n",
    "X3,Y3_0 = model.predict_rpt(3)\n",
    "with torch.no_grad():\n",
    "    Y1 = Y1_0.mean(dim=0).cpu().numpy()\n",
    "    Y2 = Y2_0.mean(dim=0).cpu().numpy()\n",
    "    Y3 = Y3_0.mean(dim=0).cpu().numpy()\n",
    "\n",
    "    X1 = X1.cpu().numpy()\n",
    "    X2 = X2.cpu().numpy()\n",
    "    X3 = X3.cpu().numpy()\n",
    "\n",
    "    if(not model.model.nonlinear_output):\n",
    "        X1 = np.exp(X1)\n",
    "        X2 = np.exp(X2)\n",
    "        X3 = np.exp(X3)"
   ]
  },
  {
   "cell_type": "code",
   "execution_count": null,
   "metadata": {},
   "outputs": [],
   "source": [
    "\n",
    "\n",
    "NC = 3\n",
    "NR = 9\n",
    "plt.figure(figsize=(NC*4, NR*3))\n",
    "\n",
    "for cc in range(9):\n",
    "    plt.subplot(NR,NC, cc*NC + 1)\n",
    "    plt.plot(Y1[cc,:],color='black')\n",
    "    plt.plot(X1[cc,:])\n",
    "\n",
    "    plt.subplot(NR,NC, cc*NC + 2)\n",
    "    plt.plot(Y2[cc,:],color='black')\n",
    "    plt.plot(X2[cc,:])\n",
    "\n",
    "    plt.subplot(NR,NC, cc*NC + 3)\n",
    "    plt.plot(Y3[cc,:],color='black')\n",
    "    plt.plot(X3[cc,:])"
   ]
  },
  {
   "cell_type": "code",
   "execution_count": null,
   "metadata": {},
   "outputs": [],
   "source": [
    "X = model.dataset.X_full[-1,...]\n",
    "Y = model.dataset.Y_full[-1,...]"
   ]
  },
  {
   "cell_type": "code",
   "execution_count": null,
   "metadata": {},
   "outputs": [],
   "source": [
    "P = 50\n",
    "T = 10000\n",
    "t_0 = 1000\n",
    "Ys = np.zeros((T,9))\n",
    "Xs = np.ones((T,P+1))\n",
    "for ii in range(T):\n",
    "    Xs[ii,:P] = X[(ii-P+1+t_0):(ii+1+t_0)]\n",
    "    Ys[ii,:] = Y[:,ii+t_0]"
   ]
  },
  {
   "cell_type": "code",
   "execution_count": null,
   "metadata": {},
   "outputs": [],
   "source": [
    "b,*_ = np.linalg.lstsq(Xs,Ys,rcond=None)"
   ]
  },
  {
   "cell_type": "code",
   "execution_count": null,
   "metadata": {},
   "outputs": [],
   "source": [
    "plt.plot(b[:-1,:]);"
   ]
  },
  {
   "cell_type": "code",
   "execution_count": null,
   "metadata": {},
   "outputs": [],
   "source": [
    "Y1.shape"
   ]
  }
 ],
 "metadata": {
  "kernelspec": {
   "display_name": "ANN",
   "language": "python",
   "name": "python3"
  },
  "language_info": {
   "codemirror_mode": {
    "name": "ipython",
    "version": 3
   },
   "file_extension": ".py",
   "mimetype": "text/x-python",
   "name": "python",
   "nbconvert_exporter": "python",
   "pygments_lexer": "ipython3",
   "version": "3.12.2"
  }
 },
 "nbformat": 4,
 "nbformat_minor": 2
}
