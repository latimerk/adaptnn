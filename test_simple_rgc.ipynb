{
 "cells": [
  {
   "cell_type": "code",
   "execution_count": 1,
   "metadata": {},
   "outputs": [],
   "source": [
    "import numpy as np\n",
    "import matplotlib.pyplot as plt\n",
    "import torch\n",
    "\n",
    "from adaptnn.model_fitting import MCJN05DataModel\n",
    "\n",
    "\n",
    "torch.set_default_device('cuda:0')"
   ]
  },
  {
   "cell_type": "code",
   "execution_count": 2,
   "metadata": {},
   "outputs": [
    {
     "name": "stdout",
     "output_type": "stream",
     "text": [
      "Building multi-layer temporal convolutional model for 9 neurons and full-field stimuli.\n",
      "Adding full-rank convolutional layer of size 40 and 8 channels.\n",
      "Adding nonlinearity: Softplus.\n",
      "Adding full-rank convolutional layer of size 1 and 8 channels.\n",
      "Adding nonlinearity: Softplus.\n",
      "Adding full-connected linear layer: 8 to 9.\n",
      "Adding output nonlinearity: Softplus.\n",
      "Model initialized.\n"
     ]
    }
   ],
   "source": [
    "model = MCJN05DataModel(dataset_params={\"dtype\" : torch.float32, \"train_long_contrast_levels\" : (1,3)},\n",
    "                        net_params={\"layer_time_lengths\" : (40,12), \"layer_channels\" : (16,8)})"
   ]
  },
  {
   "cell_type": "code",
   "execution_count": 3,
   "metadata": {},
   "outputs": [
    {
     "name": "stdout",
     "output_type": "stream",
     "text": [
      "epoch 50, loss 14.252159600956782, step size 0.0001\n",
      "epoch 100, loss 11.623149816385055, step size 0.0001\n",
      "epoch 150, loss 10.623230267629108, step size 0.0001\n",
      "epoch 200, loss 9.713234041510166, step size 0.0001\n",
      "epoch 250, loss 8.999063212087266, step size 0.0001\n",
      "epoch 300, loss 8.530660571564134, step size 0.0001\n",
      "epoch 350, loss 8.276841308618321, step size 0.0001\n",
      "epoch 400, loss 8.186914389870969, step size 0.0001\n",
      "epoch 450, loss 8.148620045867176, step size 0.0001\n",
      "epoch 500, loss 8.121884845598746, step size 0.0001\n",
      "epoch 550, loss 8.101445698893357, step size 0.0001\n",
      "epoch 600, loss 8.090498383072424, step size 0.0001\n",
      "epoch 650, loss 8.07585142774582, step size 0.0001\n",
      "epoch 700, loss 8.064733773268928, step size 0.0001\n",
      "epoch 750, loss 8.049437077129776, step size 0.0001\n",
      "epoch 800, loss 8.033686130090338, step size 0.0001\n",
      "epoch 850, loss 8.019568220046924, step size 0.0001\n",
      "epoch 900, loss 8.00846486659848, step size 0.0001\n",
      "epoch 950, loss 7.999636632816127, step size 0.0001\n"
     ]
    }
   ],
   "source": [
    "model.train(4000, print_every=50)"
   ]
  },
  {
   "cell_type": "code",
   "execution_count": null,
   "metadata": {},
   "outputs": [],
   "source": [
    "X1,Y1_0 = model.predict_rpt(1)\n",
    "X2,Y2_0 = model.predict_rpt(2)\n",
    "X3,Y3_0 = model.predict_rpt(3)\n",
    "with torch.no_grad():\n",
    "    Y1 = Y1_0.mean(dim=0).cpu().numpy()\n",
    "    Y2 = Y2_0.mean(dim=0).cpu().numpy()\n",
    "    Y3 = Y3_0.mean(dim=0).cpu().numpy()\n",
    "\n",
    "    X1 = X1.cpu().numpy()\n",
    "    X2 = X2.cpu().numpy()\n",
    "    X3 = X3.cpu().numpy()"
   ]
  },
  {
   "cell_type": "code",
   "execution_count": null,
   "metadata": {},
   "outputs": [],
   "source": [
    "\n",
    "\n",
    "NC = 3\n",
    "NR = 9\n",
    "plt.figure(figsize=(NC*4, NR*3))\n",
    "\n",
    "for cc in range(9):\n",
    "    plt.subplot(NR,NC, cc*NC + 1)\n",
    "    plt.plot(Y1[cc,:],color='black')\n",
    "    plt.plot(X1[cc,:])\n",
    "\n",
    "    plt.subplot(NR,NC, cc*NC + 2)\n",
    "    plt.plot(Y2[cc,:],color='black')\n",
    "    plt.plot(X2[cc,:])\n",
    "\n",
    "    plt.subplot(NR,NC, cc*NC + 3)\n",
    "    plt.plot(Y3[cc,:],color='black')\n",
    "    plt.plot(X3[cc,:])"
   ]
  },
  {
   "cell_type": "code",
   "execution_count": null,
   "metadata": {},
   "outputs": [],
   "source": [
    "X = model.dataset.X_full[-1,...]\n",
    "Y = model.dataset.Y_full[-1,...]"
   ]
  },
  {
   "cell_type": "code",
   "execution_count": null,
   "metadata": {},
   "outputs": [],
   "source": [
    "P = 50\n",
    "T = 10000\n",
    "t_0 = 1000\n",
    "Ys = np.zeros((T,9))\n",
    "Xs = np.ones((T,P+1))\n",
    "for ii in range(T):\n",
    "    Xs[ii,:P] = X[(ii-P+1+t_0):(ii+1+t_0)]\n",
    "    Ys[ii,:] = Y[:,ii+t_0]"
   ]
  },
  {
   "cell_type": "code",
   "execution_count": null,
   "metadata": {},
   "outputs": [],
   "source": [
    "b,*_ = np.linalg.lstsq(Xs,Ys,rcond=None)"
   ]
  },
  {
   "cell_type": "code",
   "execution_count": null,
   "metadata": {},
   "outputs": [],
   "source": [
    "plt.plot(b[:-1,:]);"
   ]
  },
  {
   "cell_type": "code",
   "execution_count": null,
   "metadata": {},
   "outputs": [],
   "source": [
    "Y1.shape"
   ]
  }
 ],
 "metadata": {
  "kernelspec": {
   "display_name": "ANN",
   "language": "python",
   "name": "python3"
  },
  "language_info": {
   "name": "python",
   "version": "3.12.2"
  }
 },
 "nbformat": 4,
 "nbformat_minor": 2
}
