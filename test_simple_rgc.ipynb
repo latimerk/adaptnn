{
 "cells": [
  {
   "cell_type": "code",
   "execution_count": 1,
   "metadata": {},
   "outputs": [],
   "source": [
    "import numpy as np\n",
    "import matplotlib.pyplot as plt\n",
    "import torch\n",
    "\n",
    "from adaptnn.model_fitting import MCJN05DataModel\n",
    "\n",
    "\n",
    "torch.set_default_device('cuda:0')"
   ]
  },
  {
   "cell_type": "code",
   "execution_count": 2,
   "metadata": {},
   "outputs": [
    {
     "name": "stdout",
     "output_type": "stream",
     "text": [
      "Building multi-layer temporal convolutional model for 9 neurons and full-field stimuli.\n",
      "Adding full-rank convolutional layer of size 40 and 8 channels.\n",
      "Adding nonlinearity: Softplus.\n",
      "Adding full-rank convolutional layer of size 12 and 8 channels.\n",
      "Adding nonlinearity: Softplus.\n",
      "Adding full-connected linear layer: 8 to 9.\n",
      "Adding output nonlinearity: Softplus.\n",
      "Model initialized.\n"
     ]
    }
   ],
   "source": [
    "model = MCJN05DataModel(dataset_params={\"dtype\" : torch.float32})"
   ]
  },
  {
   "cell_type": "code",
   "execution_count": 4,
   "metadata": {},
   "outputs": [
    {
     "name": "stdout",
     "output_type": "stream",
     "text": [
      "epoch 10, loss 38.87996787782041, step size 0.0001\n",
      "epoch 20, loss 38.868458608865595, step size 0.0001\n",
      "epoch 30, loss 38.87788034510411, step size 0.0001\n",
      "epoch 40, loss 38.871559504238604, step size 0.0001\n",
      "epoch 50, loss 38.875909702382735, step size 0.0001\n",
      "epoch 60, loss 38.85282788340131, step size 0.0001\n"
     ]
    }
   ],
   "source": [
    "model.train(200, scheduler_params=None)"
   ]
  },
  {
   "cell_type": "code",
   "execution_count": null,
   "metadata": {},
   "outputs": [],
   "source": [
    "X1,Y1 = model.predict_rpt(1)\n",
    "X2,Y2 = model.predict_rpt(2)\n",
    "X3,Y3 = model.predict_rpt(3)"
   ]
  }
 ],
 "metadata": {
  "kernelspec": {
   "display_name": "ANN",
   "language": "python",
   "name": "python3"
  },
  "language_info": {
   "name": "python",
   "version": "3.12.2"
  }
 },
 "nbformat": 4,
 "nbformat_minor": 2
}
